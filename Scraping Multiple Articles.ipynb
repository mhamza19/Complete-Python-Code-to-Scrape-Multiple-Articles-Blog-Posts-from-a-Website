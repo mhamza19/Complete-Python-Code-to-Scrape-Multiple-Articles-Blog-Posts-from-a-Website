{
 "cells": [
  {
   "cell_type": "markdown",
   "metadata": {},
   "source": [
    "# Importing all the necessary libraires"
   ]
  },
  {
   "cell_type": "code",
   "execution_count": 2,
   "metadata": {},
   "outputs": [],
   "source": [
    "import urllib.request\n",
    "from urllib.request import urlopen\n",
    "from bs4 import BeautifulSoup\n",
    "import numpy as np \n",
    "import requests \n",
    "import re\n",
    "import pandas as pd\n",
    "import nltk\n",
    "import string\n",
    "from nltk.stem import WordNetLemmatizer\n",
    "from nltk.corpus import stopwords"
   ]
  },
  {
   "cell_type": "markdown",
   "metadata": {},
   "source": [
    "# Defining header"
   ]
  },
  {
   "cell_type": "code",
   "execution_count": 3,
   "metadata": {},
   "outputs": [],
   "source": [
    "headers={'User-Agent':'Mozilla/5.0 (Windows NT 10.0; Win64; x64) AppleWebKit/537.36 (KHTML, like Gecko) Chrome/96.0.4664.45 Safari/537.36'}"
   ]
  },
  {
   "cell_type": "markdown",
   "metadata": {},
   "source": [
    "# Getting the URL and iterating through the 10 pages to extract links"
   ]
  },
  {
   "cell_type": "code",
   "execution_count": 4,
   "metadata": {
    "scrolled": false
   },
   "outputs": [],
   "source": [
    "URL = 'https://www.brookings.edu/topic/terrorism-extremism/page/'\n",
    "lis=[]\n",
    "for page in range(1,10):\n",
    "    \n",
    "    req = requests.get(URL + str(page) + '/?type=posts')\n",
    "    \n",
    "    soup = BeautifulSoup(req.text,'lxml')\n",
    "    links = [link['href'] for link in soup.find_all('a', href=re.compile('^(https://www.brookings.edu/blog/order-from-chaos/)'))]\n",
    "   \n",
    "    links=list(set(links))\n",
    "    \n",
    "    lis.append(links)\n",
    "     \n",
    "    \n"
   ]
  },
  {
   "cell_type": "code",
   "execution_count": 5,
   "metadata": {},
   "outputs": [
    {
     "data": {
      "text/plain": [
       "9"
      ]
     },
     "execution_count": 5,
     "metadata": {},
     "output_type": "execute_result"
    }
   ],
   "source": [
    "len(lis)\n"
   ]
  },
  {
   "cell_type": "markdown",
   "metadata": {},
   "source": [
    "# Inserting all scraped links in a single list"
   ]
  },
  {
   "cell_type": "code",
   "execution_count": 6,
   "metadata": {},
   "outputs": [
    {
     "data": {
      "text/plain": [
       "76"
      ]
     },
     "execution_count": 6,
     "metadata": {},
     "output_type": "execute_result"
    }
   ],
   "source": [
    "list0=lis[0]\n",
    "list1=lis[1]\n",
    "list2=lis[2]\n",
    "list3=lis[3]\n",
    "list4=lis[4]\n",
    "list5=lis[5]\n",
    "list6=lis[6]\n",
    "list7=lis[7]\n",
    "list8=lis[8]\n",
    "\n",
    "finalList=list0+list1+list2+list3+list4+list5+list6+list7+list8\n",
    "\n",
    "\n",
    "#finalList\n",
    "len(finalList)\n",
    "\n",
    "\n",
    "    "
   ]
  },
  {
   "cell_type": "code",
   "execution_count": 7,
   "metadata": {},
   "outputs": [
    {
     "data": {
      "text/plain": [
       "['https://www.brookings.edu/blog/order-from-chaos/2021/09/20/i-hadnt-the-slightest-idea-my-life-would-change-after-9-11/',\n",
       " 'https://www.brookings.edu/blog/order-from-chaos/2021/09/07/reflections-on-the-long-term-repercussions-of-september-11-for-us-policy-in-the-middle-east/',\n",
       " 'https://www.brookings.edu/blog/order-from-chaos/2021/09/08/the-tel-aviv-plot/',\n",
       " 'https://www.brookings.edu/blog/order-from-chaos/2021/09/08/the-impact-of-september-11-on-us-russian-relations/',\n",
       " 'https://www.brookings.edu/blog/order-from-chaos/2021/09/17/9-11-and-iraq-the-making-of-a-tragedy/',\n",
       " 'https://www.brookings.edu/blog/order-from-chaos/2021/09/28/the-agonizing-problem-of-pakistans-nukes/',\n",
       " 'https://www.brookings.edu/blog/order-from-chaos/2021/10/01/what-anwar-sadats-murder-40-years-ago-meant-for-the-middle-east/',\n",
       " 'https://www.brookings.edu/blog/order-from-chaos/2021/11/19/is-hezbollah-overplaying-its-hand-inside-lebanon/',\n",
       " 'https://www.brookings.edu/blog/order-from-chaos/2021/08/31/will-the-taliban-regime-survive/',\n",
       " 'https://www.brookings.edu/blog/order-from-chaos/2021/08/30/20-years-after-9-11-jihadi-terrorism-rises-in-africa/',\n",
       " 'https://www.brookings.edu/blog/order-from-chaos/2021/08/18/how-will-china-seek-to-profit-from-the-talibans-takeover-in-afghanistan/',\n",
       " 'https://www.brookings.edu/blog/order-from-chaos/2021/08/27/do-not-take-the-war-on-terrors-big-success-for-granted/',\n",
       " 'https://www.brookings.edu/blog/order-from-chaos/2021/08/18/russia-and-americas-overlapping-legacies-in-afghanistan/',\n",
       " 'https://www.brookings.edu/blog/order-from-chaos/2021/08/23/september-11-in-the-white-house/',\n",
       " 'https://www.brookings.edu/blog/order-from-chaos/2021/08/16/around-the-halls-the-taliban-retakes-afghanistan/',\n",
       " 'https://www.brookings.edu/blog/order-from-chaos/2021/08/24/pakistans-problematic-victory-in-afghanistan/',\n",
       " 'https://www.brookings.edu/blog/order-from-chaos/2021/08/06/an-uneasy-limbo-for-us-pakistan-relations-amidst-the-withdrawal-from-afghanistan/',\n",
       " 'https://www.brookings.edu/blog/order-from-chaos/2021/09/02/the-war-in-afghanistan-has-shaped-an-entire-generation-in-the-west/',\n",
       " 'https://www.brookings.edu/blog/order-from-chaos/2021/01/19/the-assault-on-the-u-s-capitol-opens-a-new-chapter-in-domestic-terrorism/',\n",
       " 'https://www.brookings.edu/blog/order-from-chaos/2021/04/09/how-hateful-rhetoric-connects-to-real-world-violence/',\n",
       " 'https://www.brookings.edu/blog/order-from-chaos/2021/07/30/treat-iraqs-iran-aligned-militias-like-isis/',\n",
       " 'https://www.brookings.edu/blog/order-from-chaos/2021/05/24/a-grand-strategy-of-resolute-restraint/',\n",
       " 'https://www.brookings.edu/blog/order-from-chaos/2021/05/04/dont-expect-an-al-qaida-reboot-in-afghanistan/',\n",
       " 'https://www.brookings.edu/blog/order-from-chaos/2021/04/27/bidens-afghan-gamble/',\n",
       " 'https://www.brookings.edu/blog/order-from-chaos/2021/06/21/remembering-the-khobar-towers-bombing/',\n",
       " 'https://www.brookings.edu/blog/order-from-chaos/2020/09/22/who-is-a-terrorist-actually/',\n",
       " 'https://www.brookings.edu/blog/order-from-chaos/2020/11/25/the-mistake-of-designating-the-houthis-as-a-foreign-terrorist-organization/',\n",
       " 'https://www.brookings.edu/blog/order-from-chaos/2020/12/16/reflections-on-the-christchurch-commission-report/',\n",
       " 'https://www.brookings.edu/blog/order-from-chaos/2021/01/15/terrorism-in-pakistan-has-declined-but-the-underlying-roots-of-extremism-remain/',\n",
       " 'https://www.brookings.edu/blog/order-from-chaos/2021/01/12/social-media-companies-need-better-emergency-protocols/',\n",
       " 'https://www.brookings.edu/blog/order-from-chaos/2020/11/17/the-death-of-ayman-al-zawahri-and-the-future-of-al-qaida/',\n",
       " 'https://www.brookings.edu/blog/order-from-chaos/2020/12/18/beware-the-criminal-threat-to-the-fight-against-covid-19/',\n",
       " 'https://www.brookings.edu/blog/order-from-chaos/2020/12/24/2020-appears-to-be-a-good-year-for-counterterrorism/',\n",
       " 'https://www.brookings.edu/blog/order-from-chaos/2021/01/15/white-supremacist-terrorism-key-trends-to-watch-in-2021/',\n",
       " 'https://www.brookings.edu/blog/order-from-chaos/2020/09/09/international-efforts-to-counter-violent-extremism-under-president-trump-a-case-study-in-dysfunction-and-incoherence/',\n",
       " 'https://www.brookings.edu/blog/order-from-chaos/2020/09/21/how-serious-are-threats-to-the-us-homeland/',\n",
       " 'https://www.brookings.edu/blog/order-from-chaos/2020/08/20/counterterrorism-in-a-time-of-covid/',\n",
       " 'https://www.brookings.edu/blog/order-from-chaos/2020/08/11/how-a-new-administration-might-better-fight-white-supremacist-violence/',\n",
       " 'https://www.brookings.edu/blog/order-from-chaos/2020/06/02/riots-white-supremacy-and-accelerationism/',\n",
       " 'https://www.brookings.edu/blog/order-from-chaos/2020/07/20/counterterrorism-and-the-un-the-rise-and-hapless-fall-of-american-leadership/',\n",
       " 'https://www.brookings.edu/blog/order-from-chaos/2020/05/14/how-mark-esper-is-navigating-the-coronavirus-crisis/',\n",
       " 'https://www.brookings.edu/blog/order-from-chaos/2020/04/07/on-cve-the-trump-administration-could-have-been-worse/',\n",
       " 'https://www.brookings.edu/blog/order-from-chaos/2020/04/28/preventing-violent-extremism-during-and-after-the-covid-19-pandemic/',\n",
       " 'https://www.brookings.edu/blog/order-from-chaos/2020/02/19/after-the-us-taliban-deal-what-might-negotiations-between-the-taliban-and-afghan-side-look-like/',\n",
       " 'https://www.brookings.edu/blog/order-from-chaos/2020/01/06/how-terrorism-helps-and-hurts-iran/',\n",
       " 'https://www.brookings.edu/blog/order-from-chaos/2020/02/28/americas-responsibilities-on-the-cusp-of-its-peace-deal-with-the-taliban/',\n",
       " 'https://www.brookings.edu/blog/order-from-chaos/2020/03/04/understanding-chinas-preventive-repression-in-xinjiang/',\n",
       " 'https://www.brookings.edu/blog/order-from-chaos/2020/03/30/a-foreign-policy-toward-warlords/',\n",
       " 'https://www.brookings.edu/blog/order-from-chaos/2020/01/07/what-the-killing-of-qassem-soleimani-could-mean/',\n",
       " 'https://www.brookings.edu/blog/order-from-chaos/2020/01/28/minding-the-gap-how-to-provide-more-comprehensive-support-to-the-children-of-isis/',\n",
       " 'https://www.brookings.edu/blog/order-from-chaos/2020/01/10/irans-next-move/',\n",
       " 'https://www.brookings.edu/blog/order-from-chaos/2019/10/16/the-fallout-from-president-trumps-syria-withdrawal-dont-forget-the-children/',\n",
       " 'https://www.brookings.edu/blog/order-from-chaos/2020/01/06/trumps-reckless-middle-east-policy-has-brought-the-us-to-the-brink-of-war/',\n",
       " 'https://www.brookings.edu/blog/order-from-chaos/2020/01/03/around-the-halls-experts-react-to-the-killing-of-iranian-commander-qassem-soleimani/',\n",
       " 'https://www.brookings.edu/blog/order-from-chaos/2019/10/29/5-lessons-from-the-death-of-baghdadi/',\n",
       " 'https://www.brookings.edu/blog/order-from-chaos/2019/10/29/al-baghdadis-death-and-that-presidential-speech/',\n",
       " 'https://www.brookings.edu/blog/order-from-chaos/2019/11/01/what-america-never-understood-about-isis/',\n",
       " 'https://www.brookings.edu/blog/order-from-chaos/2019/11/04/worried-about-an-islamic-state-comeback-heres-why-thats-unlikely/',\n",
       " 'https://www.brookings.edu/blog/order-from-chaos/2019/10/21/isis-reborn/',\n",
       " 'https://www.brookings.edu/blog/order-from-chaos/2019/11/06/what-we-can-learn-about-us-intelligence-from-the-baghdadi-raid/',\n",
       " 'https://www.brookings.edu/blog/order-from-chaos/2019/12/06/the-remarkable-case-of-the-triple-agent-and-the-bombing-in-khost-afghanistan/',\n",
       " 'https://www.brookings.edu/blog/order-from-chaos/2019/09/10/al-qaida-today-18-years-after-9-11/',\n",
       " 'https://www.brookings.edu/blog/order-from-chaos/2019/09/24/on-syria-washington-cannot-simply-throw-up-its-hands/',\n",
       " 'https://www.brookings.edu/blog/order-from-chaos/2019/10/15/trumps-syria-withdrawal-is-a-boon-for-isis-and-a-nightmare-for-europe/',\n",
       " 'https://www.brookings.edu/blog/order-from-chaos/2019/08/22/corruption-and-terrorism-the-case-of-kenya/',\n",
       " 'https://www.brookings.edu/blog/order-from-chaos/2019/10/14/imran-khans-incomplete-taliban-narrative/',\n",
       " 'https://www.brookings.edu/blog/order-from-chaos/2019/08/06/what-the-post-9-11-war-on-terror-can-teach-us-about-responding-to-domestic-terrorism-today/',\n",
       " 'https://www.brookings.edu/blog/order-from-chaos/2019/05/16/what-we-can-learn-from-yet-another-round-of-conflict-in-gaza/',\n",
       " 'https://www.brookings.edu/blog/order-from-chaos/2019/08/01/the-death-of-hamza-bin-laden-and-the-weakness-of-al-qaida/',\n",
       " 'https://www.brookings.edu/blog/order-from-chaos/2019/07/15/the-silo-problem-connecting-the-uns-efforts-to-promote-sustainable-development-and-prevent-violent-extremism/',\n",
       " 'https://www.brookings.edu/blog/order-from-chaos/2019/04/11/what-both-trump-and-his-critics-get-wrong-about-the-irgc-terrorist-designation/',\n",
       " 'https://www.brookings.edu/blog/order-from-chaos/2019/08/05/how-to-create-a-terrorism-designation-process-useful-to-technology-companies/',\n",
       " 'https://www.brookings.edu/blog/order-from-chaos/2019/04/23/the-attacks-in-sri-lanka-and-the-threat-of-foreign-fighters/',\n",
       " 'https://www.brookings.edu/blog/order-from-chaos/2019/05/29/foreign-fighters-are-dangerous-for-the-groups-they-join/',\n",
       " 'https://www.brookings.edu/blog/order-from-chaos/2019/05/06/in-strategies-to-counter-violent-extremism-politics-often-trumps-evidence/',\n",
       " 'https://www.brookings.edu/blog/order-from-chaos/2019/03/20/do-counter-narratives-actually-reduce-violent-extremism/']"
      ]
     },
     "execution_count": 7,
     "metadata": {},
     "output_type": "execute_result"
    }
   ],
   "source": [
    "finalList"
   ]
  },
  {
   "cell_type": "markdown",
   "metadata": {},
   "source": [
    "# Iterating through the links in finalList and extracting text"
   ]
  },
  {
   "cell_type": "code",
   "execution_count": 8,
   "metadata": {},
   "outputs": [],
   "source": [
    "x=[]\n",
    "for url in finalList:\n",
    "    # getting the reponse from the page using get method of requests module\n",
    "    page = requests.get(url, headers=headers)\n",
    "\n",
    "    # storing the content of the page in a variable\n",
    "    html = page.content\n",
    "\n",
    "    # creating BeautifulSoup object\n",
    "    soup = BeautifulSoup(html, \"html.parser\")\n",
    "    \n",
    "    text=[p.text for p in soup.find(class_=\"post-body post-body-enhanced\").find_all('p')]\n",
    "    x.append(text)\n",
    "    arr=np.array(x ,dtype=\"object\")\n",
    "    "
   ]
  },
  {
   "cell_type": "code",
   "execution_count": 9,
   "metadata": {},
   "outputs": [],
   "source": [
    "df = pd.DataFrame(arr, columns=['raw_data'])\n",
    "\n"
   ]
  },
  {
   "cell_type": "code",
   "execution_count": 10,
   "metadata": {},
   "outputs": [
    {
     "data": {
      "text/html": [
       "<div>\n",
       "<style scoped>\n",
       "    .dataframe tbody tr th:only-of-type {\n",
       "        vertical-align: middle;\n",
       "    }\n",
       "\n",
       "    .dataframe tbody tr th {\n",
       "        vertical-align: top;\n",
       "    }\n",
       "\n",
       "    .dataframe thead th {\n",
       "        text-align: right;\n",
       "    }\n",
       "</style>\n",
       "<table border=\"1\" class=\"dataframe\">\n",
       "  <thead>\n",
       "    <tr style=\"text-align: right;\">\n",
       "      <th></th>\n",
       "      <th>raw_data</th>\n",
       "    </tr>\n",
       "  </thead>\n",
       "  <tbody>\n",
       "    <tr>\n",
       "      <th>0</th>\n",
       "      <td>[I hadn’t the slightest idea that my life woul...</td>\n",
       "    </tr>\n",
       "    <tr>\n",
       "      <th>1</th>\n",
       "      <td>[It is one of the ironies often played by hist...</td>\n",
       "    </tr>\n",
       "    <tr>\n",
       "      <th>2</th>\n",
       "      <td>[Recently declassified information from the fi...</td>\n",
       "    </tr>\n",
       "    <tr>\n",
       "      <th>3</th>\n",
       "      <td>[On September 9, 2001, Russian President Vladi...</td>\n",
       "    </tr>\n",
       "    <tr>\n",
       "      <th>4</th>\n",
       "      <td>[Twenty years after the al-Qaida attack on Sep...</td>\n",
       "    </tr>\n",
       "    <tr>\n",
       "      <th>...</th>\n",
       "      <td>...</td>\n",
       "    </tr>\n",
       "    <tr>\n",
       "      <th>71</th>\n",
       "      <td>[On August 3, a shooter opened fire at a crowd...</td>\n",
       "    </tr>\n",
       "    <tr>\n",
       "      <th>72</th>\n",
       "      <td>[The Islamic State has claimed responsibility ...</td>\n",
       "    </tr>\n",
       "    <tr>\n",
       "      <th>73</th>\n",
       "      <td>[The release of John Walker Lindh, the “Americ...</td>\n",
       "    </tr>\n",
       "    <tr>\n",
       "      <th>74</th>\n",
       "      <td>[As dozens of countries develop national frame...</td>\n",
       "    </tr>\n",
       "    <tr>\n",
       "      <th>75</th>\n",
       "      <td>[Particularly since the rise of the so-called ...</td>\n",
       "    </tr>\n",
       "  </tbody>\n",
       "</table>\n",
       "<p>76 rows × 1 columns</p>\n",
       "</div>"
      ],
      "text/plain": [
       "                                             raw_data\n",
       "0   [I hadn’t the slightest idea that my life woul...\n",
       "1   [It is one of the ironies often played by hist...\n",
       "2   [Recently declassified information from the fi...\n",
       "3   [On September 9, 2001, Russian President Vladi...\n",
       "4   [Twenty years after the al-Qaida attack on Sep...\n",
       "..                                                ...\n",
       "71  [On August 3, a shooter opened fire at a crowd...\n",
       "72  [The Islamic State has claimed responsibility ...\n",
       "73  [The release of John Walker Lindh, the “Americ...\n",
       "74  [As dozens of countries develop national frame...\n",
       "75  [Particularly since the rise of the so-called ...\n",
       "\n",
       "[76 rows x 1 columns]"
      ]
     },
     "execution_count": 10,
     "metadata": {},
     "output_type": "execute_result"
    }
   ],
   "source": [
    "df"
   ]
  },
  {
   "cell_type": "code",
   "execution_count": 11,
   "metadata": {},
   "outputs": [],
   "source": [
    "df.to_csv(\"scrapped-raw-articles.csv\", index=False, encoding='utf-8')"
   ]
  },
  {
   "cell_type": "markdown",
   "metadata": {},
   "source": [
    "# Data Cleaning\n"
   ]
  },
  {
   "cell_type": "code",
   "execution_count": 12,
   "metadata": {},
   "outputs": [
    {
     "name": "stdout",
     "output_type": "stream",
     "text": [
      "['Recently declassified information from the first-ever interrogation of someone presumed to be a senior al-Qaida operative captured after 9/11 provides dramatic new insights into Osama bin Laden’s plans for a follow-up attack to September 11. Specifically, bin Laden was plotting a major attack in Israel, a move consistent with his obsession with the Arab-Israeli conflict and U.S. support for Israel. The attack was thwarted at the last minute. So why is this coming to light only 20 years later?\\t\\n\\n\\n\\n\\n\\n\\nBruce Riedel\\n\\n\\t\\t\\t\\t\\tSenior Fellow - Foreign Policy, Center for Middle East Policy, Center for Security, Strategy, and Technology \\n\\n\\t\\t\\t\\t\\tDirector - The Intelligence Project \\n\\n\\n\\n\\n', 'Zayn al-Abidin Muhammad Husayn, also known as Abu Zubaydah, was captured in Pakistan in March 2002. Abu Zubaydah is a Palestinian born in Saudi Arabia who was allegedly involved in preparing the travel and documentation of many al-Qaida operatives. Not technically a member of the group, he had access to much information about its planning.', 'In the opening minute of the first interrogation meeting after his capture, Abu Zubaydah blurted out that he was working on a plot to conduct simultaneous attacks on multiple dance clubs in Tel Aviv with the goal of killing hundreds of Israelis. It was all news to the U.S. intelligence community.', 'The lead interrogator was FBI agent Ali Soufan, a Lebanese American who speaks fluent Arabic. He wrote about the interrogation in his book, “The Black Banners: How Torture Derailed the War on Terror After 9/11.” Soufan believes Abu Zubaydah may have been under the misimpression that Soufan was from the Mossad because of his native fluency in Arabic. In the book, the target country of the attack plan is concealed at the request of the national security pre-publication review process. It is identified only as a country “closely allied with the United States.”\\n\\nRelated Books\\n\\n\\n\\n\\n\\n\\n \\n\\n\\n\\nThe Search for Al Qaeda\\n\\n\\n\\t\\t\\t\\t\\t\\tBy Bruce Riedel \\n2010\\n\\n\\n\\n\\n\\n\\n\\n\\nT\\n\\n\\n\\nTerrorism and U.S. Foreign Policy\\n\\n\\n\\t\\t\\t\\t\\t\\tBy Paul R. Pillar \\n2003\\n\\n\\n\\n\\n\\n\\n\\n\\n\\n \\n\\n\\n\\nA High Price: The Triumphs and Failures of Israeli Counterterrorism\\n\\n\\n\\t\\t\\t\\t\\t\\tBy Daniel L. Byman \\n2011\\n\\n\\n\\n\\n\\n\\n', 'It is now clear that country is Israel. According to Abu Zubaydah, the operation was very much bin Laden’s project, which he was very excited about. It was begun before 9/11 after al-Qaida got a donation from a Saudi source of $100,000 to carry out an attack in Israel with the likelihood of more to come if it was successful. Soufan does not know more about the money. Ironically, a key al-Qaida operative in the plot was captured in Iran after 9/11 fleeing Afghanistan, but the plotting went on. The actual suicide bombers were Palestinians, and the attack was imminent.', 'In March 2002, Israel was in the midst of the second intifada. On the 27th of the month, Hamas carried out a suicide bombing in Netanya that killed 30 Israeli civilians. If al-Qaida had pulled off multiple simultaneous attacks, the already-explosive situation in the region would have been even more dire.', 'The intelligence was shared immediately with the Israelis, who wrapped up the team in the territories who were intended to pull it off. Abu Zubaydah may have been under the impression that they had already been arrested before his capture and had outed him to the CIA.', 'The plot was likely kept a secret for years because it showed that the FBI was getting results from the interrogation of Abu Zubaydah without waterboarding and other torture methods. That, of course, would undermine Vice President Dick Cheney’s argument that torture was essential to getting information. The coverup was about protecting the use of torture. The Israelis had their own interest in silence since they did not want to highlight publicly the linkages between al-Qaida and the Israeli-Palestinian conflict.', 'In fact, the Palestinian conflict and American support for Israel were and are still the driving force behind al-Qaida leadership. Bin Laden and his deputy and successor Ayman Zawahri laid that out repeatedly before and after 9/11, as I wrote in my book, “The Search for Al Qaida.” Indeed, bin Laden had wanted the attacks in the United States to take place when then-Israeli Prime Minister Ariel Sharon was visiting the White House in June 2001 to dramatize the Israeli connection. The hijackers were not ready, however, and the date slipped to September.', 'The details of the Tel Aviv plot were classified until a recent court order in New York. Soufan recently spoke about them to an Israeli newspaper. Evidently, the change in administration from the pro-torture Trump team to President Joe Biden and Central Intelligence Agency Director William Burns has helped get the truth out.\\n\\n\\nRelated Content\\n\\n\\n\\n\\n\\n\\n \\n\\n\\n\\nFixGov\\n9/11 and the reinvention of the US intelligence community\\n\\nElaine Kamarck\\nFriday, August 27, 2021\\n\\n\\n\\n\\n\\n\\n\\n \\n\\n\\n\\nOp-Ed\\nTorture Needs to Be Illegal\\n\\nDaniel Benjamin\\nMonday, December 22, 2014\\n\\n\\n\\n\\n\\n\\n2021\\nSep\\n10\\n\\n\\nPast Event\\n9/11, 20 years later: Legacies and lessons\\n\\n9:30 AM -\\n\\t\\t\\t\\t\\t\\t\\n\\t\\t\\t\\t\\t\\t\\t11:45 AM EDT\\t\\t\\t\\t\\t\\t\\n\\n\\n\\t\\t\\t\\t\\t\\tOnline only\\t\\t\\t\\t\\t\\n\\n\\n\\n\\n\\n']\n"
     ]
    }
   ],
   "source": [
    "print(x[2])"
   ]
  },
  {
   "cell_type": "code",
   "execution_count": 13,
   "metadata": {},
   "outputs": [
    {
     "data": {
      "text/plain": [
       "76"
      ]
     },
     "execution_count": 13,
     "metadata": {},
     "output_type": "execute_result"
    }
   ],
   "source": [
    "len(x)\n"
   ]
  },
  {
   "cell_type": "code",
   "execution_count": 14,
   "metadata": {},
   "outputs": [],
   "source": [
    "documents=[]\n",
    "stemmer =WordNetLemmatizer()\n",
    "for sen in range(0, len(x)):\n",
    "    #Remove all special characters\n",
    "    document = re.sub(r'\\w',' ',str(x[sen]))\n",
    "    \n",
    "    document = re.sub(\"\\\\\\\\.|[^a-zA-Z' ]+\", '',str(x[sen]))\n",
    "    \n",
    "    #remove all punctuations\n",
    "    document = re.sub(re.escape(string.punctuation), '' , document)\n",
    "    \n",
    "    #remove all single characters\n",
    "    document = re.sub(r'\\s+[a-zA-Z]\\s+','',document)\n",
    "    \n",
    "    #remove all single characters from start\n",
    "    document = re.sub(r'\\^[a-zA-Z]\\s+',' ',document)\n",
    "    \n",
    "    #substituting multiple spaces with single space\n",
    "    document = re.sub(r'\\s+',\" \",document, flags=re.I)\n",
    "    \n",
    "    #removing prefixed b\n",
    "    document = re.sub(r'^b\\s+','',document)\n",
    "    \n",
    "    document=re.sub(r'\\'',\"\",document)\n",
    "    document = document.lower()\n",
    "    \n",
    "    doucment = document.split()\n",
    "    \n",
    "    document =[stemmer.lemmatize(word) for word in document]\n",
    "    document = ''.join(document)\n",
    "    doucment = [word for word in document.split() if word not in stopwords.words(\"english\")]\n",
    "    document = ''.join(document)\n",
    "    document=np.array(document)\n",
    "    documents.append(document)\n",
    "   \n",
    "    \n",
    "    "
   ]
  },
  {
   "cell_type": "code",
   "execution_count": 15,
   "metadata": {},
   "outputs": [
    {
     "data": {
      "text/plain": [
       "array('i hadnt the slightest idea that my life would change it was two weeks into my freshman year of collegewas living away from home for the first time and then the september attacks happened it felt likedouble tragedy to meas an american of course but also asmuslim not only did they do this they did this in my nametshadi hamidsenior fellow foreign policy center for middle east policy twittershadihamid before osama bin laden becamehousehold namequaint thought in retrospect it wouldnt have occurred to me that my faith would soon become inextricably linked to terrorism in the publics imagination in high school there was that one time whenkid named dan called meterrorist butdont recall it beingbig deal no one really cared that we were muslim sure we were brownwas different in an overwhelmingly white school but we were morecuriosity and not quitethreat in retrospect im impressed that dan was sufficiently aware of global affairs to have already perceived an association between islam and terrorism he was ahead of his time going into collegeknewwanted to do something vaguely international but it hadnt occurred to me to make the middle east into my lifes workthoughtcould make money as an investment banker or something similarly soulcrushing its odd to think that the actions of those hijackers would alter my future so decisivelyended up living in jordan foryear andhalf and later qatar for four years meanwhile egypt became my home away from homewanted to spend as much time as possible in the middle east in the hopeprobably misplacedthatcould make sense of that day and all the days after it twenty years laterlike my country havent been able to escape the legacy of september all my presidents were defined by the attacks and what they wrought georgebush will be remembered foremost for the iraq war and other post blunders excesses and abuses barack obama came to prominence in large part because he opposed those abuses his successor donald trump announced himself by attacking the post foreign policy consensus while also drawing ondistinctly post fear and paranoia it is easy to forget it now but trump appeared oddly preoccupied with muslims and islam his signature campaign issue after all waspledge to ban muslims from entering the united states it was trump who memorably if somewhat inexplicably saidthink islam hates us and now joe bidens foreign policy legacy will be indelibly shaped by how americans remember or forget the botched extrication out ofonce permanent war it didnt have to be this way but it was despite only numbering aroundaone percentaof the us population and anywhere from to percent in european countries like hungary germany and france muslims became key protagonists and antagonists in the stories of western democracies for better and worse everyone seems to have an opinion about us now aswrite this sharia law isatrending although its not entirely clear why i wonder how different my life would have looked had something gone awry in the plans of the masterminds and hijackers certainly the united states would have been better off having avoided at least one war and possibly two the middle east would have still been important but not as important as it became which would have beenboon for the people of the region despite occasionally having good intentionsbriefly during georgebushs freedom agenda in to and during barack obamas early if guarded optimism around the arab spring in the united states ended up leavingtrail of destruction in its wake and so im tempted to imaginecounterfactual history in which the relative boredom of themight have continued we wouldnt have known better and muslims at least in america could have remainedrelatively quiet ifaidiosyncratic minority henry kissingeraonce saidathat the history of things that didnt happen has never been written they didnt happen forreason now that biden has ended our longest war we can perhaps try to turn the page ontragic chaptersuspect its too late however its been too late for almost two decades because of that day the middle east has haunted this country for the near entirety of my adult life we have been living with the consequences andworry that we will continue to live with them despite our persistent hopes to the contrarynrelated content how we risehow helped to militarize american law enforcementrashawn raythursday septemberfixgovhow americas response to contributed to our national declinewilliamgalstonfriday augustorder from chaos and iraq the making oftragedybruce riedelfriday september n',\n",
       "      dtype='<U4525')"
      ]
     },
     "execution_count": 15,
     "metadata": {},
     "output_type": "execute_result"
    }
   ],
   "source": [
    "documents[0]\n",
    "#type(documents)    \n",
    "    "
   ]
  },
  {
   "cell_type": "code",
   "execution_count": 17,
   "metadata": {},
   "outputs": [
    {
     "data": {
      "text/html": [
       "<div>\n",
       "<style scoped>\n",
       "    .dataframe tbody tr th:only-of-type {\n",
       "        vertical-align: middle;\n",
       "    }\n",
       "\n",
       "    .dataframe tbody tr th {\n",
       "        vertical-align: top;\n",
       "    }\n",
       "\n",
       "    .dataframe thead th {\n",
       "        text-align: right;\n",
       "    }\n",
       "</style>\n",
       "<table border=\"1\" class=\"dataframe\">\n",
       "  <thead>\n",
       "    <tr style=\"text-align: right;\">\n",
       "      <th></th>\n",
       "      <th>orignal</th>\n",
       "      <th>Cleaned</th>\n",
       "    </tr>\n",
       "  </thead>\n",
       "  <tbody>\n",
       "    <tr>\n",
       "      <th>0</th>\n",
       "      <td>['I hadn’t the slightest idea that my life wou...</td>\n",
       "      <td>i hadnt the slightest idea that my life would ...</td>\n",
       "    </tr>\n",
       "    <tr>\n",
       "      <th>1</th>\n",
       "      <td>['It is one of the ironies often played by his...</td>\n",
       "      <td>it is one of the ironies often played by histo...</td>\n",
       "    </tr>\n",
       "    <tr>\n",
       "      <th>2</th>\n",
       "      <td>['Recently declassified information from the f...</td>\n",
       "      <td>recently declassified information from the fir...</td>\n",
       "    </tr>\n",
       "    <tr>\n",
       "      <th>3</th>\n",
       "      <td>['On September 9, 2001, Russian President Vlad...</td>\n",
       "      <td>on september russian president vladimir putin ...</td>\n",
       "    </tr>\n",
       "    <tr>\n",
       "      <th>4</th>\n",
       "      <td>['Twenty years after the al-Qaida attack on Se...</td>\n",
       "      <td>twenty years after the alqaida attack on septe...</td>\n",
       "    </tr>\n",
       "  </tbody>\n",
       "</table>\n",
       "</div>"
      ],
      "text/plain": [
       "                                             orignal  \\\n",
       "0  ['I hadn’t the slightest idea that my life wou...   \n",
       "1  ['It is one of the ironies often played by his...   \n",
       "2  ['Recently declassified information from the f...   \n",
       "3  ['On September 9, 2001, Russian President Vlad...   \n",
       "4  ['Twenty years after the al-Qaida attack on Se...   \n",
       "\n",
       "                                             Cleaned  \n",
       "0  i hadnt the slightest idea that my life would ...  \n",
       "1  it is one of the ironies often played by histo...  \n",
       "2  recently declassified information from the fir...  \n",
       "3  on september russian president vladimir putin ...  \n",
       "4  twenty years after the alqaida attack on septe...  "
      ]
     },
     "execution_count": 17,
     "metadata": {},
     "output_type": "execute_result"
    }
   ],
   "source": [
    "df=pd.DataFrame()\n",
    "df['orignal'] = x\n",
    "df[\"Cleaned\"] = documents\n",
    "df.to_csv(\"clean_data.csv\", index = False)\n",
    "df=pd.read_csv('clean_data.csv')\n",
    "df.head()"
   ]
  },
  {
   "cell_type": "code",
   "execution_count": 18,
   "metadata": {},
   "outputs": [
    {
     "data": {
      "text/plain": [
       "76"
      ]
     },
     "execution_count": 18,
     "metadata": {},
     "output_type": "execute_result"
    }
   ],
   "source": [
    "len(df)"
   ]
  },
  {
   "cell_type": "code",
   "execution_count": null,
   "metadata": {},
   "outputs": [],
   "source": []
  },
  {
   "cell_type": "code",
   "execution_count": null,
   "metadata": {},
   "outputs": [],
   "source": []
  }
 ],
 "metadata": {
  "kernelspec": {
   "display_name": "Python 3 (ipykernel)",
   "language": "python",
   "name": "python3"
  },
  "language_info": {
   "codemirror_mode": {
    "name": "ipython",
    "version": 3
   },
   "file_extension": ".py",
   "mimetype": "text/x-python",
   "name": "python",
   "nbconvert_exporter": "python",
   "pygments_lexer": "ipython3",
   "version": "3.8.12"
  }
 },
 "nbformat": 4,
 "nbformat_minor": 4
}
